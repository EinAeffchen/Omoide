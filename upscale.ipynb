{
 "cells": [
  {
   "cell_type": "code",
   "execution_count": 2,
   "id": "6375b16a",
   "metadata": {},
   "outputs": [
    {
     "ename": "ImportError",
     "evalue": "cannot import name 'RealESRGANModel' from 'realesrgan' (/home/einaeffchen/repos/Smol/media/.smol/venv/lib/python3.12/site-packages/realesrgan/__init__.py)",
     "output_type": "error",
     "traceback": [
      "\u001b[31m---------------------------------------------------------------------------\u001b[39m",
      "\u001b[31mImportError\u001b[39m                               Traceback (most recent call last)",
      "\u001b[36mCell\u001b[39m\u001b[36m \u001b[39m\u001b[32mIn[2]\u001b[39m\u001b[32m, line 14\u001b[39m\n\u001b[32m     12\u001b[39m \u001b[38;5;66;03m# Add this module to sys.modules so other imports can access it\u001b[39;00m\n\u001b[32m     13\u001b[39m sys.modules[\u001b[33m\"\u001b[39m\u001b[33mtorchvision.transforms.functional_tensor\u001b[39m\u001b[33m\"\u001b[39m] = functional_tensor\n\u001b[32m---> \u001b[39m\u001b[32m14\u001b[39m \u001b[38;5;28;01mfrom\u001b[39;00m\u001b[38;5;250m \u001b[39m\u001b[34;01mrealesrgan\u001b[39;00m\u001b[38;5;250m \u001b[39m\u001b[38;5;28;01mimport\u001b[39;00m RealESRGANModel\n",
      "\u001b[31mImportError\u001b[39m: cannot import name 'RealESRGANModel' from 'realesrgan' (/home/einaeffchen/repos/Smol/media/.smol/venv/lib/python3.12/site-packages/realesrgan/__init__.py)"
     ]
    }
   ],
   "source": [
    "import os, json\n",
    "import cv2\n",
    "import ffmpeg\n",
    "import numpy as np\n",
    "from torchvision.transforms.functional import rgb_to_grayscale\n",
    "import sys\n",
    "import types\n",
    "# Create a module for `torchvision.transforms.functional_tensor`\n",
    "functional_tensor = types.ModuleType(\"torchvision.transforms.functional_tensor\")\n",
    "functional_tensor.rgb_to_grayscale = rgb_to_grayscale\n",
    "\n",
    "# Add this module to sys.modules so other imports can access it\n",
    "sys.modules[\"torchvision.transforms.functional_tensor\"] = functional_tensor\n",
    "from realesrgan import RealESRGANModel"
   ]
  },
  {
   "cell_type": "code",
   "execution_count": 3,
   "id": "5aa8a0aa",
   "metadata": {},
   "outputs": [
    {
     "name": "stdout",
     "output_type": "stream",
     "text": [
      "Name: realesrgan\n",
      "Version: 0.3.0\n",
      "Summary: Real-ESRGAN aims at developing Practical Algorithms for General Image Restoration\n",
      "Home-page: https://github.com/xinntao/Real-ESRGAN\n",
      "Author: Xintao Wang\n",
      "Author-email: xintao.wang@outlook.com\n",
      "License: BSD-3-Clause License\n",
      "Location: /home/einaeffchen/repos/Smol/media/.smol/venv/lib/python3.12/site-packages\n",
      "Requires: basicsr, facexlib, gfpgan, numpy, opencv-python, Pillow, torch, torchvision, tqdm\n",
      "Required-by: \n"
     ]
    }
   ],
   "source": [
    "!pip show realesrgan"
   ]
  },
  {
   "cell_type": "code",
   "execution_count": null,
   "id": "e50ebaff",
   "metadata": {},
   "outputs": [],
   "source": []
  }
 ],
 "metadata": {
  "kernelspec": {
   "display_name": "venv",
   "language": "python",
   "name": "python3"
  },
  "language_info": {
   "codemirror_mode": {
    "name": "ipython",
    "version": 3
   },
   "file_extension": ".py",
   "mimetype": "text/x-python",
   "name": "python",
   "nbconvert_exporter": "python",
   "pygments_lexer": "ipython3",
   "version": "3.12.3"
  }
 },
 "nbformat": 4,
 "nbformat_minor": 5
}
